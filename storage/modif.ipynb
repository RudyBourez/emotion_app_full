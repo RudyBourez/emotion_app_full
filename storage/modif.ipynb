{
 "cells": [
  {
   "cell_type": "code",
   "execution_count": 18,
   "metadata": {},
   "outputs": [],
   "source": [
    "import pandas as pd\n",
    "import numpy as np"
   ]
  },
  {
   "cell_type": "code",
   "execution_count": 19,
   "metadata": {},
   "outputs": [],
   "source": [
    "df = pd.read_csv(\"data.csv\")"
   ]
  },
  {
   "cell_type": "code",
   "execution_count": 20,
   "metadata": {},
   "outputs": [],
   "source": [
    "df[\"user_id\"] = np.random.randint(5, size=len(df)) + 1"
   ]
  },
  {
   "cell_type": "code",
   "execution_count": 21,
   "metadata": {},
   "outputs": [],
   "source": [
    "liste_people = [\n",
    "    [\"Robert\",\"Pattinson\",\"robert.pattinson@gmail.com\",\"15-04-1968\"],\n",
    "    [\"Patricia\",\"Meurey\",\"patricia.meurey@gmail.com\",\"26-08-1987\"],\n",
    "    [\"John\",\"Doe\",\"john.doe@gmail.com\",\"28-03-1950\"],\n",
    "    [\"Patrick\",\"Smith\",\"patrick.smith@gmail.com\",\"05-11-1995\"],\n",
    "    [\"Catherine\",\"Potin\",\"catherine.potin@gmail.com\",\"12-01-1972\"]\n",
    "    ]"
   ]
  },
  {
   "cell_type": "code",
   "execution_count": 22,
   "metadata": {},
   "outputs": [],
   "source": [
    "df[\"user\"] = [liste_people[df.loc[i, \"user_id\"]-1] for i in range(len(df))]"
   ]
  },
  {
   "cell_type": "code",
   "execution_count": 23,
   "metadata": {},
   "outputs": [
    {
     "data": {
      "text/plain": [
       "0        [Robert, Pattinson, robert.pattinson@gmail.com...\n",
       "1        [Robert, Pattinson, robert.pattinson@gmail.com...\n",
       "2        [Patrick, Smith, patrick.smith@gmail.com, 05-1...\n",
       "3        [Patricia, Meurey, patricia.meurey@gmail.com, ...\n",
       "4        [Catherine, Potin, catherine.potin@gmail.com, ...\n",
       "                               ...                        \n",
       "21454          [John, Doe, john.doe@gmail.com, 28-03-1950]\n",
       "21455    [Robert, Pattinson, robert.pattinson@gmail.com...\n",
       "21456          [John, Doe, john.doe@gmail.com, 28-03-1950]\n",
       "21457    [Catherine, Potin, catherine.potin@gmail.com, ...\n",
       "21458          [John, Doe, john.doe@gmail.com, 28-03-1950]\n",
       "Name: user, Length: 21459, dtype: object"
      ]
     },
     "execution_count": 23,
     "metadata": {},
     "output_type": "execute_result"
    }
   ],
   "source": [
    "df[\"user\"]"
   ]
  },
  {
   "cell_type": "code",
   "execution_count": 24,
   "metadata": {},
   "outputs": [],
   "source": [
    "df[\"first_name\"] = [item[0] for item in df[\"user\"]]\n",
    "df[\"last_name\"] = [item[1] for item in df[\"user\"]]\n",
    "df[\"email\"] = [item[2] for item in df[\"user\"]]\n",
    "df[\"birthdate\"] = [item[3] for item in df[\"user\"]]"
   ]
  },
  {
   "cell_type": "code",
   "execution_count": 25,
   "metadata": {},
   "outputs": [],
   "source": [
    "df.rename(columns={\"Text\":\"text\"}, inplace=True)\n",
    "df.drop([\"Emotion\",\"user\"], axis=1, inplace=True)"
   ]
  },
  {
   "cell_type": "code",
   "execution_count": 26,
   "metadata": {},
   "outputs": [],
   "source": [
    "user_df = df[[\"first_name\", \"last_name\",\"email\", \"birthdate\"]].drop_duplicates()"
   ]
  },
  {
   "cell_type": "code",
   "execution_count": 27,
   "metadata": {},
   "outputs": [],
   "source": [
    "user_df = user_df.reset_index().drop([\"index\"], axis=1).reset_index().rename(columns={\"index\":\"id\"})"
   ]
  },
  {
   "cell_type": "code",
   "execution_count": 28,
   "metadata": {},
   "outputs": [],
   "source": [
    "user_df[\"id\"] +=1"
   ]
  },
  {
   "cell_type": "code",
   "execution_count": 29,
   "metadata": {},
   "outputs": [],
   "source": [
    "text_df = df[[\"user_id\",\"text\"]].reset_index().rename(columns={\"index\":\"id\"})\n",
    "text_df[\"id\"] += 1"
   ]
  },
  {
   "cell_type": "code",
   "execution_count": 30,
   "metadata": {},
   "outputs": [
    {
     "data": {
      "text/html": [
       "<div>\n",
       "<style scoped>\n",
       "    .dataframe tbody tr th:only-of-type {\n",
       "        vertical-align: middle;\n",
       "    }\n",
       "\n",
       "    .dataframe tbody tr th {\n",
       "        vertical-align: top;\n",
       "    }\n",
       "\n",
       "    .dataframe thead th {\n",
       "        text-align: right;\n",
       "    }\n",
       "</style>\n",
       "<table border=\"1\" class=\"dataframe\">\n",
       "  <thead>\n",
       "    <tr style=\"text-align: right;\">\n",
       "      <th></th>\n",
       "      <th>id</th>\n",
       "      <th>user_id</th>\n",
       "      <th>text</th>\n",
       "    </tr>\n",
       "  </thead>\n",
       "  <tbody>\n",
       "    <tr>\n",
       "      <th>0</th>\n",
       "      <td>1</td>\n",
       "      <td>1</td>\n",
       "      <td>i didnt feel humiliated</td>\n",
       "    </tr>\n",
       "    <tr>\n",
       "      <th>1</th>\n",
       "      <td>2</td>\n",
       "      <td>1</td>\n",
       "      <td>i can go from feeling so hopeless to so damned...</td>\n",
       "    </tr>\n",
       "    <tr>\n",
       "      <th>2</th>\n",
       "      <td>3</td>\n",
       "      <td>4</td>\n",
       "      <td>im grabbing a minute to post i feel greedy wrong</td>\n",
       "    </tr>\n",
       "    <tr>\n",
       "      <th>3</th>\n",
       "      <td>4</td>\n",
       "      <td>2</td>\n",
       "      <td>i am ever feeling nostalgic about the fireplac...</td>\n",
       "    </tr>\n",
       "    <tr>\n",
       "      <th>4</th>\n",
       "      <td>5</td>\n",
       "      <td>5</td>\n",
       "      <td>i am feeling grouchy</td>\n",
       "    </tr>\n",
       "    <tr>\n",
       "      <th>...</th>\n",
       "      <td>...</td>\n",
       "      <td>...</td>\n",
       "      <td>...</td>\n",
       "    </tr>\n",
       "    <tr>\n",
       "      <th>21454</th>\n",
       "      <td>21455</td>\n",
       "      <td>3</td>\n",
       "      <td>Melissa stared at her friend in dism</td>\n",
       "    </tr>\n",
       "    <tr>\n",
       "      <th>21455</th>\n",
       "      <td>21456</td>\n",
       "      <td>1</td>\n",
       "      <td>Successive state elections have seen the gover...</td>\n",
       "    </tr>\n",
       "    <tr>\n",
       "      <th>21456</th>\n",
       "      <td>21457</td>\n",
       "      <td>3</td>\n",
       "      <td>Vincent was irritated but not dismay</td>\n",
       "    </tr>\n",
       "    <tr>\n",
       "      <th>21457</th>\n",
       "      <td>21458</td>\n",
       "      <td>5</td>\n",
       "      <td>Kendall-Hume turned back to face the dismayed ...</td>\n",
       "    </tr>\n",
       "    <tr>\n",
       "      <th>21458</th>\n",
       "      <td>21459</td>\n",
       "      <td>3</td>\n",
       "      <td>I am dismayed , but not surpris</td>\n",
       "    </tr>\n",
       "  </tbody>\n",
       "</table>\n",
       "<p>21459 rows × 3 columns</p>\n",
       "</div>"
      ],
      "text/plain": [
       "          id  user_id                                               text\n",
       "0          1        1                            i didnt feel humiliated\n",
       "1          2        1  i can go from feeling so hopeless to so damned...\n",
       "2          3        4   im grabbing a minute to post i feel greedy wrong\n",
       "3          4        2  i am ever feeling nostalgic about the fireplac...\n",
       "4          5        5                               i am feeling grouchy\n",
       "...      ...      ...                                                ...\n",
       "21454  21455        3               Melissa stared at her friend in dism\n",
       "21455  21456        1  Successive state elections have seen the gover...\n",
       "21456  21457        3               Vincent was irritated but not dismay\n",
       "21457  21458        5  Kendall-Hume turned back to face the dismayed ...\n",
       "21458  21459        3                    I am dismayed , but not surpris\n",
       "\n",
       "[21459 rows x 3 columns]"
      ]
     },
     "execution_count": 30,
     "metadata": {},
     "output_type": "execute_result"
    }
   ],
   "source": [
    "text_df"
   ]
  },
  {
   "cell_type": "code",
   "execution_count": 31,
   "metadata": {},
   "outputs": [],
   "source": [
    "def random_datetimes_or_dates(start, end, n): \n",
    "\n",
    "    '''   \n",
    "    unix timestamp is in ns by default. \n",
    "    I divide the unix time value by 10**9 to make it seconds (or 24*60*60*10**9 to make it days).\n",
    "    The corresponding unit variable is passed to the pd.to_datetime function. \n",
    "    Values for the (divide_by, unit) pair to select is defined by the out_format parameter.\n",
    "    for 1 -> out_format='datetime'\n",
    "    for 2 -> out_format=anything else\n",
    "    '''\n",
    "    (divide_by, unit) = (24*60*60*10**9, 'D')\n",
    "\n",
    "    start_u = start.value//divide_by\n",
    "    end_u = end.value//divide_by\n",
    "\n",
    "    return pd.to_datetime(np.random.randint(start_u, end_u, n), unit=unit) "
   ]
  },
  {
   "cell_type": "code",
   "execution_count": 32,
   "metadata": {},
   "outputs": [],
   "source": [
    "text_df[\"publication_date\"] = random_datetimes_or_dates(pd.to_datetime('2022-03-01'),pd.to_datetime('2022-06-01'), len(text_df))"
   ]
  },
  {
   "cell_type": "code",
   "execution_count": 33,
   "metadata": {},
   "outputs": [
    {
     "data": {
      "text/html": [
       "<div>\n",
       "<style scoped>\n",
       "    .dataframe tbody tr th:only-of-type {\n",
       "        vertical-align: middle;\n",
       "    }\n",
       "\n",
       "    .dataframe tbody tr th {\n",
       "        vertical-align: top;\n",
       "    }\n",
       "\n",
       "    .dataframe thead th {\n",
       "        text-align: right;\n",
       "    }\n",
       "</style>\n",
       "<table border=\"1\" class=\"dataframe\">\n",
       "  <thead>\n",
       "    <tr style=\"text-align: right;\">\n",
       "      <th></th>\n",
       "      <th>id</th>\n",
       "      <th>user_id</th>\n",
       "      <th>text</th>\n",
       "      <th>publication_date</th>\n",
       "    </tr>\n",
       "  </thead>\n",
       "  <tbody>\n",
       "    <tr>\n",
       "      <th>0</th>\n",
       "      <td>1</td>\n",
       "      <td>1</td>\n",
       "      <td>i didnt feel humiliated</td>\n",
       "      <td>2022-04-21</td>\n",
       "    </tr>\n",
       "    <tr>\n",
       "      <th>1</th>\n",
       "      <td>2</td>\n",
       "      <td>1</td>\n",
       "      <td>i can go from feeling so hopeless to so damned...</td>\n",
       "      <td>2022-04-07</td>\n",
       "    </tr>\n",
       "    <tr>\n",
       "      <th>2</th>\n",
       "      <td>3</td>\n",
       "      <td>4</td>\n",
       "      <td>im grabbing a minute to post i feel greedy wrong</td>\n",
       "      <td>2022-04-06</td>\n",
       "    </tr>\n",
       "    <tr>\n",
       "      <th>3</th>\n",
       "      <td>4</td>\n",
       "      <td>2</td>\n",
       "      <td>i am ever feeling nostalgic about the fireplac...</td>\n",
       "      <td>2022-03-02</td>\n",
       "    </tr>\n",
       "    <tr>\n",
       "      <th>4</th>\n",
       "      <td>5</td>\n",
       "      <td>5</td>\n",
       "      <td>i am feeling grouchy</td>\n",
       "      <td>2022-04-30</td>\n",
       "    </tr>\n",
       "    <tr>\n",
       "      <th>...</th>\n",
       "      <td>...</td>\n",
       "      <td>...</td>\n",
       "      <td>...</td>\n",
       "      <td>...</td>\n",
       "    </tr>\n",
       "    <tr>\n",
       "      <th>21454</th>\n",
       "      <td>21455</td>\n",
       "      <td>3</td>\n",
       "      <td>Melissa stared at her friend in dism</td>\n",
       "      <td>2022-03-30</td>\n",
       "    </tr>\n",
       "    <tr>\n",
       "      <th>21455</th>\n",
       "      <td>21456</td>\n",
       "      <td>1</td>\n",
       "      <td>Successive state elections have seen the gover...</td>\n",
       "      <td>2022-03-10</td>\n",
       "    </tr>\n",
       "    <tr>\n",
       "      <th>21456</th>\n",
       "      <td>21457</td>\n",
       "      <td>3</td>\n",
       "      <td>Vincent was irritated but not dismay</td>\n",
       "      <td>2022-04-29</td>\n",
       "    </tr>\n",
       "    <tr>\n",
       "      <th>21457</th>\n",
       "      <td>21458</td>\n",
       "      <td>5</td>\n",
       "      <td>Kendall-Hume turned back to face the dismayed ...</td>\n",
       "      <td>2022-05-01</td>\n",
       "    </tr>\n",
       "    <tr>\n",
       "      <th>21458</th>\n",
       "      <td>21459</td>\n",
       "      <td>3</td>\n",
       "      <td>I am dismayed , but not surpris</td>\n",
       "      <td>2022-04-28</td>\n",
       "    </tr>\n",
       "  </tbody>\n",
       "</table>\n",
       "<p>21459 rows × 4 columns</p>\n",
       "</div>"
      ],
      "text/plain": [
       "          id  user_id                                               text  \\\n",
       "0          1        1                            i didnt feel humiliated   \n",
       "1          2        1  i can go from feeling so hopeless to so damned...   \n",
       "2          3        4   im grabbing a minute to post i feel greedy wrong   \n",
       "3          4        2  i am ever feeling nostalgic about the fireplac...   \n",
       "4          5        5                               i am feeling grouchy   \n",
       "...      ...      ...                                                ...   \n",
       "21454  21455        3               Melissa stared at her friend in dism   \n",
       "21455  21456        1  Successive state elections have seen the gover...   \n",
       "21456  21457        3               Vincent was irritated but not dismay   \n",
       "21457  21458        5  Kendall-Hume turned back to face the dismayed ...   \n",
       "21458  21459        3                    I am dismayed , but not surpris   \n",
       "\n",
       "      publication_date  \n",
       "0           2022-04-21  \n",
       "1           2022-04-07  \n",
       "2           2022-04-06  \n",
       "3           2022-03-02  \n",
       "4           2022-04-30  \n",
       "...                ...  \n",
       "21454       2022-03-30  \n",
       "21455       2022-03-10  \n",
       "21456       2022-04-29  \n",
       "21457       2022-05-01  \n",
       "21458       2022-04-28  \n",
       "\n",
       "[21459 rows x 4 columns]"
      ]
     },
     "execution_count": 33,
     "metadata": {},
     "output_type": "execute_result"
    }
   ],
   "source": [
    "text_df"
   ]
  },
  {
   "cell_type": "code",
   "execution_count": 34,
   "metadata": {},
   "outputs": [],
   "source": [
    "text_df.to_csv(\"text.csv\",sep='|', index=False, header=False)\n",
    "user_df.to_csv(\"user.csv\",sep='|', index=False, header=False)"
   ]
  }
 ],
 "metadata": {
  "interpreter": {
   "hash": "47a6a95d807ff6e8e6ce80734933fdb023d3c75656b75f63b8b1cbf7c1d84c07"
  },
  "kernelspec": {
   "display_name": "Python 3.9.7 ('rb_ds')",
   "language": "python",
   "name": "python3"
  },
  "language_info": {
   "codemirror_mode": {
    "name": "ipython",
    "version": 3
   },
   "file_extension": ".py",
   "mimetype": "text/x-python",
   "name": "python",
   "nbconvert_exporter": "python",
   "pygments_lexer": "ipython3",
   "version": "3.9.7"
  },
  "orig_nbformat": 4
 },
 "nbformat": 4,
 "nbformat_minor": 2
}
