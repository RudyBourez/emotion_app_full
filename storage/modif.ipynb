{
 "cells": [
  {
   "cell_type": "code",
   "execution_count": 86,
   "metadata": {},
   "outputs": [],
   "source": [
    "import pandas as pd\n",
    "import numpy as np"
   ]
  },
  {
   "cell_type": "code",
   "execution_count": 87,
   "metadata": {},
   "outputs": [],
   "source": [
    "df = pd.read_csv(\"data.csv\")"
   ]
  },
  {
   "cell_type": "code",
   "execution_count": 88,
   "metadata": {},
   "outputs": [],
   "source": [
    "df[\"user_id\"] = np.random.randint(5, size=len(df)) + 1"
   ]
  },
  {
   "cell_type": "code",
   "execution_count": 89,
   "metadata": {},
   "outputs": [],
   "source": [
    "liste_people = [\n",
    "    [\"Robert\",\"Pattinson\",\"robert.pattinson@gmail.com\",\"15-04-1968\"],\n",
    "    [\"Patricia\",\"Meurey\",\"patricia.meurey@gmail.com\",\"26-08-1987\"],\n",
    "    [\"John\",\"Doe\",\"john.doe@gmail.com\",\"28-03-1950\"],\n",
    "    [\"Patrick\",\"Smith\",\"patrick.smith@gmail.com\",\"05-11-1995\"],\n",
    "    [\"Catherine\",\"Potin\",\"catherine.potin@gmail.com\",\"12-01-1972\"]\n",
    "    ]"
   ]
  },
  {
   "cell_type": "code",
   "execution_count": 90,
   "metadata": {},
   "outputs": [],
   "source": [
    "df[\"user\"] = [liste_people[df.loc[i, \"user_id\"]-1] for i in range(len(df))]"
   ]
  },
  {
   "cell_type": "code",
   "execution_count": 91,
   "metadata": {},
   "outputs": [
    {
     "data": {
      "text/plain": [
       "0        [Patricia, Meurey, patricia.meurey@gmail.com, ...\n",
       "1              [John, Doe, john.doe@gmail.com, 28-03-1950]\n",
       "2        [Catherine, Potin, catherine.potin@gmail.com, ...\n",
       "3        [Catherine, Potin, catherine.potin@gmail.com, ...\n",
       "4              [John, Doe, john.doe@gmail.com, 28-03-1950]\n",
       "                               ...                        \n",
       "21454          [John, Doe, john.doe@gmail.com, 28-03-1950]\n",
       "21455    [Patricia, Meurey, patricia.meurey@gmail.com, ...\n",
       "21456    [Catherine, Potin, catherine.potin@gmail.com, ...\n",
       "21457    [Patrick, Smith, patrick.smith@gmail.com, 05-1...\n",
       "21458    [Patricia, Meurey, patricia.meurey@gmail.com, ...\n",
       "Name: user, Length: 21459, dtype: object"
      ]
     },
     "execution_count": 91,
     "metadata": {},
     "output_type": "execute_result"
    }
   ],
   "source": [
    "df[\"user\"]"
   ]
  },
  {
   "cell_type": "code",
   "execution_count": 92,
   "metadata": {},
   "outputs": [],
   "source": [
    "df[\"first_name\"] = [item[0] for item in df[\"user\"]]\n",
    "df[\"last_name\"] = [item[1] for item in df[\"user\"]]\n",
    "df[\"email\"] = [item[2] for item in df[\"user\"]]\n",
    "df[\"birthdate\"] = [item[3] for item in df[\"user\"]]"
   ]
  },
  {
   "cell_type": "code",
   "execution_count": 94,
   "metadata": {},
   "outputs": [],
   "source": [
    "df.rename(columns={\"Text\":\"text\"}, inplace=True)\n",
    "df.drop([\"Emotion\",\"user\"], axis=1, inplace=True)"
   ]
  },
  {
   "cell_type": "code",
   "execution_count": 95,
   "metadata": {},
   "outputs": [],
   "source": [
    "user_df = df[[\"first_name\", \"last_name\",\"email\", \"birthdate\"]].drop_duplicates()"
   ]
  },
  {
   "cell_type": "code",
   "execution_count": 96,
   "metadata": {},
   "outputs": [],
   "source": [
    "user_df = user_df.reset_index().drop([\"index\"], axis=1).reset_index().rename(columns={\"index\":\"id\"})"
   ]
  },
  {
   "cell_type": "code",
   "execution_count": 101,
   "metadata": {},
   "outputs": [
    {
     "data": {
      "text/html": [
       "<div>\n",
       "<style scoped>\n",
       "    .dataframe tbody tr th:only-of-type {\n",
       "        vertical-align: middle;\n",
       "    }\n",
       "\n",
       "    .dataframe tbody tr th {\n",
       "        vertical-align: top;\n",
       "    }\n",
       "\n",
       "    .dataframe thead th {\n",
       "        text-align: right;\n",
       "    }\n",
       "</style>\n",
       "<table border=\"1\" class=\"dataframe\">\n",
       "  <thead>\n",
       "    <tr style=\"text-align: right;\">\n",
       "      <th></th>\n",
       "      <th>id</th>\n",
       "      <th>first_name</th>\n",
       "      <th>last_name</th>\n",
       "      <th>email</th>\n",
       "      <th>birthdate</th>\n",
       "    </tr>\n",
       "  </thead>\n",
       "  <tbody>\n",
       "    <tr>\n",
       "      <th>0</th>\n",
       "      <td>0</td>\n",
       "      <td>Patricia</td>\n",
       "      <td>Meurey</td>\n",
       "      <td>patricia.meurey@gmail.com</td>\n",
       "      <td>26-08-1987</td>\n",
       "    </tr>\n",
       "    <tr>\n",
       "      <th>1</th>\n",
       "      <td>1</td>\n",
       "      <td>John</td>\n",
       "      <td>Doe</td>\n",
       "      <td>john.doe@gmail.com</td>\n",
       "      <td>28-03-1950</td>\n",
       "    </tr>\n",
       "    <tr>\n",
       "      <th>2</th>\n",
       "      <td>2</td>\n",
       "      <td>Catherine</td>\n",
       "      <td>Potin</td>\n",
       "      <td>catherine.potin@gmail.com</td>\n",
       "      <td>12-01-1972</td>\n",
       "    </tr>\n",
       "    <tr>\n",
       "      <th>3</th>\n",
       "      <td>3</td>\n",
       "      <td>Patrick</td>\n",
       "      <td>Smith</td>\n",
       "      <td>patrick.smith@gmail.com</td>\n",
       "      <td>05-11-1995</td>\n",
       "    </tr>\n",
       "    <tr>\n",
       "      <th>4</th>\n",
       "      <td>4</td>\n",
       "      <td>Robert</td>\n",
       "      <td>Pattinson</td>\n",
       "      <td>robert.pattinson@gmail.com</td>\n",
       "      <td>15-04-1968</td>\n",
       "    </tr>\n",
       "  </tbody>\n",
       "</table>\n",
       "</div>"
      ],
      "text/plain": [
       "   id first_name  last_name                       email   birthdate\n",
       "0   0   Patricia     Meurey   patricia.meurey@gmail.com  26-08-1987\n",
       "1   1       John        Doe          john.doe@gmail.com  28-03-1950\n",
       "2   2  Catherine      Potin   catherine.potin@gmail.com  12-01-1972\n",
       "3   3    Patrick      Smith     patrick.smith@gmail.com  05-11-1995\n",
       "4   4     Robert  Pattinson  robert.pattinson@gmail.com  15-04-1968"
      ]
     },
     "execution_count": 101,
     "metadata": {},
     "output_type": "execute_result"
    }
   ],
   "source": [
    "user_df[\"id\"] +=1"
   ]
  },
  {
   "cell_type": "code",
   "execution_count": 97,
   "metadata": {},
   "outputs": [],
   "source": [
    "text_df = df[[\"user_id\",\"text\"]].reset_index().rename(columns={\"index\":\"id\"})\n",
    "text_df[\"id\"] += 1"
   ]
  },
  {
   "cell_type": "code",
   "execution_count": 98,
   "metadata": {},
   "outputs": [],
   "source": [
    "def random_datetimes_or_dates(start, end, n): \n",
    "\n",
    "    '''   \n",
    "    unix timestamp is in ns by default. \n",
    "    I divide the unix time value by 10**9 to make it seconds (or 24*60*60*10**9 to make it days).\n",
    "    The corresponding unit variable is passed to the pd.to_datetime function. \n",
    "    Values for the (divide_by, unit) pair to select is defined by the out_format parameter.\n",
    "    for 1 -> out_format='datetime'\n",
    "    for 2 -> out_format=anything else\n",
    "    '''\n",
    "    (divide_by, unit) = (24*60*60*10**9, 'D')\n",
    "\n",
    "    start_u = start.value//divide_by\n",
    "    end_u = end.value//divide_by\n",
    "\n",
    "    return pd.to_datetime(np.random.randint(start_u, end_u, n), unit=unit) "
   ]
  },
  {
   "cell_type": "code",
   "execution_count": 99,
   "metadata": {},
   "outputs": [],
   "source": [
    "text_df[\"publication_date\"] = random_datetimes_or_dates(pd.to_datetime('2022-03-01'),pd.to_datetime('2022-06-01'), len(text_df))"
   ]
  },
  {
   "cell_type": "code",
   "execution_count": 100,
   "metadata": {},
   "outputs": [],
   "source": [
    "text_df.to_csv(\"text.csv\",sep='|', index=False, header=False)\n",
    "user_df.to_csv(\"user.csv\",sep='|', index=False, header=False)"
   ]
  }
 ],
 "metadata": {
  "interpreter": {
   "hash": "95d8cfa31fe53900dda2b6db44c98b49f3de3927e795e9b0426d51e138b8da78"
  },
  "kernelspec": {
   "display_name": "Python 3.10.2 ('rb_ds')",
   "language": "python",
   "name": "python3"
  },
  "language_info": {
   "codemirror_mode": {
    "name": "ipython",
    "version": 3
   },
   "file_extension": ".py",
   "mimetype": "text/x-python",
   "name": "python",
   "nbconvert_exporter": "python",
   "pygments_lexer": "ipython3",
   "version": "3.10.2"
  },
  "orig_nbformat": 4
 },
 "nbformat": 4,
 "nbformat_minor": 2
}
