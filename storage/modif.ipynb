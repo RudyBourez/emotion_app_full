{
 "cells": [
  {
   "cell_type": "code",
   "execution_count": 10,
   "metadata": {},
   "outputs": [],
   "source": [
    "import pandas as pd\n",
    "import numpy as np"
   ]
  },
  {
   "cell_type": "code",
   "execution_count": 2,
   "metadata": {},
   "outputs": [],
   "source": [
    "df = pd.read_csv(\"data.csv\")"
   ]
  },
  {
   "cell_type": "code",
   "execution_count": 17,
   "metadata": {},
   "outputs": [],
   "source": [
    "df[\"user_id\"] = np.random.randint(5, size=len(df)) + 1"
   ]
  },
  {
   "cell_type": "code",
   "execution_count": 20,
   "metadata": {},
   "outputs": [],
   "source": [
    "liste_people = [\n",
    "    [\"Robert\",\"Pattinson\",\"15-04-1968\"],\n",
    "    [\"Patricia\",\"Meurey\",\"26-08-1987\"],\n",
    "    [\"John\",\"Doe\",\"28-03-1950\"],\n",
    "    [\"Patrick\",\"Smith\",\"05-11-1995\"],\n",
    "    [\"Catherine\",\"Potin\",\"12-01-1972\"]\n",
    "    ]"
   ]
  },
  {
   "cell_type": "code",
   "execution_count": 25,
   "metadata": {},
   "outputs": [],
   "source": [
    "df[\"user\"] = [liste_people[df.loc[i, \"user_id\"]-1] for i in range(len(df))]"
   ]
  },
  {
   "cell_type": "code",
   "execution_count": 27,
   "metadata": {},
   "outputs": [
    {
     "data": {
      "text/plain": [
       "0           [Patrick, Smith, 05-11-1995]\n",
       "1        [Robert, Pattinson, 15-04-1968]\n",
       "2                [John, Doe, 28-03-1950]\n",
       "3                [John, Doe, 28-03-1950]\n",
       "4                [John, Doe, 28-03-1950]\n",
       "                      ...               \n",
       "21454     [Patricia, Meurey, 26-08-1987]\n",
       "21455     [Patricia, Meurey, 26-08-1987]\n",
       "21456    [Robert, Pattinson, 15-04-1968]\n",
       "21457    [Robert, Pattinson, 15-04-1968]\n",
       "21458       [Patrick, Smith, 05-11-1995]\n",
       "Name: user, Length: 21459, dtype: object"
      ]
     },
     "execution_count": 27,
     "metadata": {},
     "output_type": "execute_result"
    }
   ],
   "source": [
    "df[\"user\"]"
   ]
  },
  {
   "cell_type": "code",
   "execution_count": 29,
   "metadata": {},
   "outputs": [],
   "source": [
    "df[\"first_name\"] = [item[0] for item in df[\"user\"]]\n",
    "df[\"last_name\"] = [item[1] for item in df[\"user\"]]\n",
    "df[\"birthdate\"] = [item[2] for item in df[\"user\"]]"
   ]
  },
  {
   "cell_type": "code",
   "execution_count": 33,
   "metadata": {},
   "outputs": [],
   "source": [
    "df.rename(columns={\"Text\":\"text\"}, inplace=True)\n",
    "df.drop([\"Emotion\",\"user\"], axis=1, inplace=True)"
   ]
  },
  {
   "cell_type": "code",
   "execution_count": 51,
   "metadata": {},
   "outputs": [],
   "source": [
    "user_df = df[[\"first_name\", \"last_name\", \"birthdate\"]].drop_duplicates()"
   ]
  },
  {
   "cell_type": "code",
   "execution_count": 52,
   "metadata": {},
   "outputs": [],
   "source": [
    "user_df = user_df.reset_index().drop([\"index\"], axis=1).reset_index().rename(columns={\"index\":\"id\"})"
   ]
  },
  {
   "cell_type": "code",
   "execution_count": 55,
   "metadata": {},
   "outputs": [],
   "source": [
    "text_df = df[[\"user_id\",\"text\"]].reset_index().rename(columns={\"index\":\"id\"})\n",
    "text_df[\"id\"] += 1"
   ]
  },
  {
   "cell_type": "code",
   "execution_count": 64,
   "metadata": {},
   "outputs": [],
   "source": [
    "def random_datetimes_or_dates(start, end, n): \n",
    "\n",
    "    '''   \n",
    "    unix timestamp is in ns by default. \n",
    "    I divide the unix time value by 10**9 to make it seconds (or 24*60*60*10**9 to make it days).\n",
    "    The corresponding unit variable is passed to the pd.to_datetime function. \n",
    "    Values for the (divide_by, unit) pair to select is defined by the out_format parameter.\n",
    "    for 1 -> out_format='datetime'\n",
    "    for 2 -> out_format=anything else\n",
    "    '''\n",
    "    (divide_by, unit) = (24*60*60*10**9, 'D')\n",
    "\n",
    "    start_u = start.value//divide_by\n",
    "    end_u = end.value//divide_by\n",
    "\n",
    "    return pd.to_datetime(np.random.randint(start_u, end_u, n), unit=unit) "
   ]
  },
  {
   "cell_type": "code",
   "execution_count": 68,
   "metadata": {},
   "outputs": [],
   "source": [
    "text_df[\"publication_date\"] = random_datetimes_or_dates(pd.to_datetime('2022-03-01'),pd.to_datetime('2022-06-01'), len(text_df))"
   ]
  },
  {
   "cell_type": "code",
   "execution_count": 70,
   "metadata": {},
   "outputs": [],
   "source": [
    "text_df.to_csv(\"text.csv\",sep='|', index=False)\n",
    "user_df.to_csv(\"user.csv\",sep='|', index=False)"
   ]
  }
 ],
 "metadata": {
  "interpreter": {
   "hash": "f9c53a907a002b4e9a19722a602837d35259060912236c1ab01dd2cdafac54d8"
  },
  "kernelspec": {
   "display_name": "Python 3.9.7 ('base')",
   "language": "python",
   "name": "python3"
  },
  "language_info": {
   "codemirror_mode": {
    "name": "ipython",
    "version": 3
   },
   "file_extension": ".py",
   "mimetype": "text/x-python",
   "name": "python",
   "nbconvert_exporter": "python",
   "pygments_lexer": "ipython3",
   "version": "3.9.7"
  },
  "orig_nbformat": 4
 },
 "nbformat": 4,
 "nbformat_minor": 2
}
